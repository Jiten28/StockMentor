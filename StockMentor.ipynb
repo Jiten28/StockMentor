{
 "cells": [
  {
   "cell_type": "markdown",
   "metadata": {},
   "source": [
    "### Stock Market Prediction And Forecasting Using Stacked LSTM"
   ]
  },
  {
   "cell_type": "code",
   "execution_count": 13,
   "metadata": {},
   "outputs": [],
   "source": [
    "### Keras and Tensorflow >2.0"
   ]
  },
  {
   "cell_type": "code",
   "execution_count": 14,
   "metadata": {},
   "outputs": [],
   "source": [
    "### Data Collection\n",
    "import tiingo\n",
    "import pandas_datareader as pdr\n"
   ]
  },
  {
   "cell_type": "code",
   "execution_count": null,
   "metadata": {},
   "outputs": [],
   "source": [
    "key=\"Tiingo API Token\"\n",
    "\n",
    "StockName = 'TCS'\n",
    "\n",
    "time_step = 100"
   ]
  },
  {
   "cell_type": "code",
   "execution_count": 15,
   "metadata": {},
   "outputs": [],
   "source": [
    "client = tiingo.TiingoClient({'api_key': key})\n",
    "df = client.get_dataframe(StockName, startDate='2020-01-01', endDate='2024-01-01')"
   ]
  },
  {
   "cell_type": "code",
   "execution_count": 16,
   "metadata": {},
   "outputs": [],
   "source": [
    "df.to_csv('TCS.csv')"
   ]
  },
  {
   "cell_type": "code",
   "execution_count": 17,
   "metadata": {},
   "outputs": [],
   "source": [
    "import pandas as pd"
   ]
  },
  {
   "cell_type": "code",
   "execution_count": 18,
   "metadata": {},
   "outputs": [],
   "source": [
    "df=pd.read_csv('TCS.csv')"
   ]
  },
  {
   "cell_type": "code",
   "execution_count": 19,
   "metadata": {},
   "outputs": [
    {
     "data": {
      "text/html": [
       "<div>\n",
       "<style scoped>\n",
       "    .dataframe tbody tr th:only-of-type {\n",
       "        vertical-align: middle;\n",
       "    }\n",
       "\n",
       "    .dataframe tbody tr th {\n",
       "        vertical-align: top;\n",
       "    }\n",
       "\n",
       "    .dataframe thead th {\n",
       "        text-align: right;\n",
       "    }\n",
       "</style>\n",
       "<table border=\"1\" class=\"dataframe\">\n",
       "  <thead>\n",
       "    <tr style=\"text-align: right;\">\n",
       "      <th></th>\n",
       "      <th>date</th>\n",
       "      <th>close</th>\n",
       "      <th>high</th>\n",
       "      <th>low</th>\n",
       "      <th>open</th>\n",
       "      <th>volume</th>\n",
       "      <th>adjClose</th>\n",
       "      <th>adjHigh</th>\n",
       "      <th>adjLow</th>\n",
       "      <th>adjOpen</th>\n",
       "      <th>adjVolume</th>\n",
       "      <th>divCash</th>\n",
       "      <th>splitFactor</th>\n",
       "    </tr>\n",
       "  </thead>\n",
       "  <tbody>\n",
       "    <tr>\n",
       "      <th>0</th>\n",
       "      <td>2020-01-02 00:00:00+00:00</td>\n",
       "      <td>300.35</td>\n",
       "      <td>300.60</td>\n",
       "      <td>295.19</td>\n",
       "      <td>296.24</td>\n",
       "      <td>33911864</td>\n",
       "      <td>72.797293</td>\n",
       "      <td>72.857887</td>\n",
       "      <td>71.546639</td>\n",
       "      <td>71.801132</td>\n",
       "      <td>135647456</td>\n",
       "      <td>0.0</td>\n",
       "      <td>1.0</td>\n",
       "    </tr>\n",
       "    <tr>\n",
       "      <th>1</th>\n",
       "      <td>2020-01-03 00:00:00+00:00</td>\n",
       "      <td>297.43</td>\n",
       "      <td>300.58</td>\n",
       "      <td>296.50</td>\n",
       "      <td>297.15</td>\n",
       "      <td>36633878</td>\n",
       "      <td>72.089558</td>\n",
       "      <td>72.853039</td>\n",
       "      <td>71.864150</td>\n",
       "      <td>72.021693</td>\n",
       "      <td>146535512</td>\n",
       "      <td>0.0</td>\n",
       "      <td>1.0</td>\n",
       "    </tr>\n",
       "    <tr>\n",
       "      <th>2</th>\n",
       "      <td>2020-01-06 00:00:00+00:00</td>\n",
       "      <td>299.80</td>\n",
       "      <td>299.96</td>\n",
       "      <td>292.75</td>\n",
       "      <td>293.79</td>\n",
       "      <td>29644644</td>\n",
       "      <td>72.663987</td>\n",
       "      <td>72.702767</td>\n",
       "      <td>70.955244</td>\n",
       "      <td>71.207314</td>\n",
       "      <td>118578576</td>\n",
       "      <td>0.0</td>\n",
       "      <td>1.0</td>\n",
       "    </tr>\n",
       "    <tr>\n",
       "      <th>3</th>\n",
       "      <td>2020-01-07 00:00:00+00:00</td>\n",
       "      <td>298.39</td>\n",
       "      <td>300.90</td>\n",
       "      <td>297.48</td>\n",
       "      <td>299.84</td>\n",
       "      <td>27877655</td>\n",
       "      <td>72.322238</td>\n",
       "      <td>72.930599</td>\n",
       "      <td>72.101677</td>\n",
       "      <td>72.673682</td>\n",
       "      <td>111510620</td>\n",
       "      <td>0.0</td>\n",
       "      <td>1.0</td>\n",
       "    </tr>\n",
       "    <tr>\n",
       "      <th>4</th>\n",
       "      <td>2020-01-08 00:00:00+00:00</td>\n",
       "      <td>303.19</td>\n",
       "      <td>304.44</td>\n",
       "      <td>297.16</td>\n",
       "      <td>297.16</td>\n",
       "      <td>33090946</td>\n",
       "      <td>73.485638</td>\n",
       "      <td>73.788606</td>\n",
       "      <td>72.024117</td>\n",
       "      <td>72.024117</td>\n",
       "      <td>132363784</td>\n",
       "      <td>0.0</td>\n",
       "      <td>1.0</td>\n",
       "    </tr>\n",
       "  </tbody>\n",
       "</table>\n",
       "</div>"
      ],
      "text/plain": [
       "                        date   close    high     low    open    volume  \\\n",
       "0  2020-01-02 00:00:00+00:00  300.35  300.60  295.19  296.24  33911864   \n",
       "1  2020-01-03 00:00:00+00:00  297.43  300.58  296.50  297.15  36633878   \n",
       "2  2020-01-06 00:00:00+00:00  299.80  299.96  292.75  293.79  29644644   \n",
       "3  2020-01-07 00:00:00+00:00  298.39  300.90  297.48  299.84  27877655   \n",
       "4  2020-01-08 00:00:00+00:00  303.19  304.44  297.16  297.16  33090946   \n",
       "\n",
       "    adjClose    adjHigh     adjLow    adjOpen  adjVolume  divCash  splitFactor  \n",
       "0  72.797293  72.857887  71.546639  71.801132  135647456      0.0          1.0  \n",
       "1  72.089558  72.853039  71.864150  72.021693  146535512      0.0          1.0  \n",
       "2  72.663987  72.702767  70.955244  71.207314  118578576      0.0          1.0  \n",
       "3  72.322238  72.930599  72.101677  72.673682  111510620      0.0          1.0  \n",
       "4  73.485638  73.788606  72.024117  72.024117  132363784      0.0          1.0  "
      ]
     },
     "execution_count": 19,
     "metadata": {},
     "output_type": "execute_result"
    }
   ],
   "source": [
    "df.head()"
   ]
  },
  {
   "cell_type": "code",
   "execution_count": 20,
   "metadata": {},
   "outputs": [
    {
     "data": {
      "text/html": [
       "<div>\n",
       "<style scoped>\n",
       "    .dataframe tbody tr th:only-of-type {\n",
       "        vertical-align: middle;\n",
       "    }\n",
       "\n",
       "    .dataframe tbody tr th {\n",
       "        vertical-align: top;\n",
       "    }\n",
       "\n",
       "    .dataframe thead th {\n",
       "        text-align: right;\n",
       "    }\n",
       "</style>\n",
       "<table border=\"1\" class=\"dataframe\">\n",
       "  <thead>\n",
       "    <tr style=\"text-align: right;\">\n",
       "      <th></th>\n",
       "      <th>date</th>\n",
       "      <th>close</th>\n",
       "      <th>high</th>\n",
       "      <th>low</th>\n",
       "      <th>open</th>\n",
       "      <th>volume</th>\n",
       "      <th>adjClose</th>\n",
       "      <th>adjHigh</th>\n",
       "      <th>adjLow</th>\n",
       "      <th>adjOpen</th>\n",
       "      <th>adjVolume</th>\n",
       "      <th>divCash</th>\n",
       "      <th>splitFactor</th>\n",
       "    </tr>\n",
       "  </thead>\n",
       "  <tbody>\n",
       "    <tr>\n",
       "      <th>1001</th>\n",
       "      <td>2023-12-22 00:00:00+00:00</td>\n",
       "      <td>193.60</td>\n",
       "      <td>195.41</td>\n",
       "      <td>192.970</td>\n",
       "      <td>195.18</td>\n",
       "      <td>37149570</td>\n",
       "      <td>192.656691</td>\n",
       "      <td>194.457872</td>\n",
       "      <td>192.029760</td>\n",
       "      <td>194.228992</td>\n",
       "      <td>37149570</td>\n",
       "      <td>0.0</td>\n",
       "      <td>1.0</td>\n",
       "    </tr>\n",
       "    <tr>\n",
       "      <th>1002</th>\n",
       "      <td>2023-12-26 00:00:00+00:00</td>\n",
       "      <td>193.05</td>\n",
       "      <td>193.89</td>\n",
       "      <td>192.830</td>\n",
       "      <td>193.61</td>\n",
       "      <td>28919310</td>\n",
       "      <td>192.109371</td>\n",
       "      <td>192.945278</td>\n",
       "      <td>191.890442</td>\n",
       "      <td>192.666642</td>\n",
       "      <td>28919310</td>\n",
       "      <td>0.0</td>\n",
       "      <td>1.0</td>\n",
       "    </tr>\n",
       "    <tr>\n",
       "      <th>1003</th>\n",
       "      <td>2023-12-27 00:00:00+00:00</td>\n",
       "      <td>193.15</td>\n",
       "      <td>193.50</td>\n",
       "      <td>191.090</td>\n",
       "      <td>192.49</td>\n",
       "      <td>47899806</td>\n",
       "      <td>192.208883</td>\n",
       "      <td>192.557178</td>\n",
       "      <td>190.158921</td>\n",
       "      <td>191.552099</td>\n",
       "      <td>47899806</td>\n",
       "      <td>0.0</td>\n",
       "      <td>1.0</td>\n",
       "    </tr>\n",
       "    <tr>\n",
       "      <th>1004</th>\n",
       "      <td>2023-12-28 00:00:00+00:00</td>\n",
       "      <td>193.58</td>\n",
       "      <td>194.66</td>\n",
       "      <td>193.170</td>\n",
       "      <td>194.14</td>\n",
       "      <td>34049898</td>\n",
       "      <td>192.636788</td>\n",
       "      <td>193.711526</td>\n",
       "      <td>192.228786</td>\n",
       "      <td>193.194060</td>\n",
       "      <td>34049898</td>\n",
       "      <td>0.0</td>\n",
       "      <td>1.0</td>\n",
       "    </tr>\n",
       "    <tr>\n",
       "      <th>1005</th>\n",
       "      <td>2023-12-29 00:00:00+00:00</td>\n",
       "      <td>192.53</td>\n",
       "      <td>194.40</td>\n",
       "      <td>191.725</td>\n",
       "      <td>193.90</td>\n",
       "      <td>42672148</td>\n",
       "      <td>191.591904</td>\n",
       "      <td>193.452793</td>\n",
       "      <td>190.790827</td>\n",
       "      <td>192.955229</td>\n",
       "      <td>42672148</td>\n",
       "      <td>0.0</td>\n",
       "      <td>1.0</td>\n",
       "    </tr>\n",
       "  </tbody>\n",
       "</table>\n",
       "</div>"
      ],
      "text/plain": [
       "                           date   close    high      low    open    volume  \\\n",
       "1001  2023-12-22 00:00:00+00:00  193.60  195.41  192.970  195.18  37149570   \n",
       "1002  2023-12-26 00:00:00+00:00  193.05  193.89  192.830  193.61  28919310   \n",
       "1003  2023-12-27 00:00:00+00:00  193.15  193.50  191.090  192.49  47899806   \n",
       "1004  2023-12-28 00:00:00+00:00  193.58  194.66  193.170  194.14  34049898   \n",
       "1005  2023-12-29 00:00:00+00:00  192.53  194.40  191.725  193.90  42672148   \n",
       "\n",
       "        adjClose     adjHigh      adjLow     adjOpen  adjVolume  divCash  \\\n",
       "1001  192.656691  194.457872  192.029760  194.228992   37149570      0.0   \n",
       "1002  192.109371  192.945278  191.890442  192.666642   28919310      0.0   \n",
       "1003  192.208883  192.557178  190.158921  191.552099   47899806      0.0   \n",
       "1004  192.636788  193.711526  192.228786  193.194060   34049898      0.0   \n",
       "1005  191.591904  193.452793  190.790827  192.955229   42672148      0.0   \n",
       "\n",
       "      splitFactor  \n",
       "1001          1.0  \n",
       "1002          1.0  \n",
       "1003          1.0  \n",
       "1004          1.0  \n",
       "1005          1.0  "
      ]
     },
     "execution_count": 20,
     "metadata": {},
     "output_type": "execute_result"
    }
   ],
   "source": [
    "df.tail()"
   ]
  },
  {
   "cell_type": "code",
   "execution_count": 21,
   "metadata": {},
   "outputs": [],
   "source": [
    "df1=df.reset_index()['close']"
   ]
  },
  {
   "cell_type": "code",
   "execution_count": 22,
   "metadata": {},
   "outputs": [
    {
     "data": {
      "text/plain": [
       "0       300.35\n",
       "1       297.43\n",
       "2       299.80\n",
       "3       298.39\n",
       "4       303.19\n",
       "         ...  \n",
       "1001    193.60\n",
       "1002    193.05\n",
       "1003    193.15\n",
       "1004    193.58\n",
       "1005    192.53\n",
       "Name: close, Length: 1006, dtype: float64"
      ]
     },
     "execution_count": 22,
     "metadata": {},
     "output_type": "execute_result"
    }
   ],
   "source": [
    "df1"
   ]
  },
  {
   "cell_type": "code",
   "execution_count": 23,
   "metadata": {},
   "outputs": [
    {
     "data": {
      "text/plain": [
       "[<matplotlib.lines.Line2D at 0x2144fe2d150>]"
      ]
     },
     "execution_count": 23,
     "metadata": {},
     "output_type": "execute_result"
    },
    {
     "data": {
      "image/png": "[encoded data removed]",
      "text/plain": [
       "<Figure size 640x480 with 1 Axes>"
      ]
     },
     "metadata": {},
     "output_type": "display_data"
    }
   ],
   "source": [
    "import matplotlib.pyplot as plt\n",
    "plt.plot(df1)"
   ]
  },
  {
   "cell_type": "code",
   "execution_count": 24,
   "metadata": {},
   "outputs": [],
   "source": [
    "### LSTM are sensitive to the scale of the data. so we apply MinMax scaler "
   ]
  },
  {
   "cell_type": "code",
   "execution_count": 25,
   "metadata": {},
   "outputs": [],
   "source": [
    "import numpy as np"
   ]
  },
  {
   "cell_type": "code",
   "execution_count": 26,
   "metadata": {},
   "outputs": [
    {
     "data": {
      "text/plain": [
       "0       300.35\n",
       "1       297.43\n",
       "2       299.80\n",
       "3       298.39\n",
       "4       303.19\n",
       "         ...  \n",
       "1001    193.60\n",
       "1002    193.05\n",
       "1003    193.15\n",
       "1004    193.58\n",
       "1005    192.53\n",
       "Name: close, Length: 1006, dtype: float64"
      ]
     },
     "execution_count": 26,
     "metadata": {},
     "output_type": "execute_result"
    }
   ],
   "source": [
    "df1"
   ]
  },
  {
   "cell_type": "code",
   "execution_count": 27,
   "metadata": {},
   "outputs": [],
   "source": [
    "from sklearn.preprocessing import MinMaxScaler\n",
    "scaler=MinMaxScaler(feature_range=(0,1))\n",
    "df1=scaler.fit_transform(np.array(df1).reshape(-1,1))"
   ]
  },
  {
   "cell_type": "code",
   "execution_count": 28,
   "metadata": {},
   "outputs": [
    {
     "name": "stdout",
     "output_type": "stream",
     "text": [
      "[[0.48468378]\n",
      " [0.47737007]\n",
      " [0.4833062 ]\n",
      " ...\n",
      " [0.21618034]\n",
      " [0.21725736]\n",
      " [0.21462743]]\n"
     ]
    }
   ],
   "source": [
    "print(df1)"
   ]
  },
  {
   "cell_type": "code",
   "execution_count": 29,
   "metadata": {},
   "outputs": [],
   "source": [
    "##splitting dataset into train and test split\n",
    "training_size=int(len(df1)*0.65)\n",
    "test_size=len(df1)-training_size\n",
    "train_data,test_data=df1[0:training_size,:],df1[training_size:len(df1),:1]"
   ]
  },
  {
   "cell_type": "code",
   "execution_count": 30,
   "metadata": {},
   "outputs": [
    {
     "data": {
      "text/plain": [
       "(653, 353)"
      ]
     },
     "execution_count": 30,
     "metadata": {},
     "output_type": "execute_result"
    }
   ],
   "source": [
    "training_size,test_size"
   ]
  },
  {
   "cell_type": "code",
   "execution_count": 31,
   "metadata": {},
   "outputs": [
    {
     "data": {
      "text/plain": [
       "array([[4.84683782e-01],\n",
       "       [4.77370069e-01],\n",
       "       [4.83306199e-01],\n",
       "       [4.79774577e-01],\n",
       "       [4.91797120e-01],\n",
       "       [5.07927364e-01],\n",
       "       [5.09680651e-01],\n",
       "       [5.26286788e-01],\n",
       "       [5.15566688e-01],\n",
       "       [5.12210394e-01],\n",
       "       [5.21978710e-01],\n",
       "       [5.30720100e-01],\n",
       "       [5.25309956e-01],\n",
       "       [5.28140263e-01],\n",
       "       [5.31972448e-01],\n",
       "       [5.29668128e-01],\n",
       "       [5.06224170e-01],\n",
       "       [5.28115216e-01],\n",
       "       [5.44771446e-01],\n",
       "       [5.43594239e-01],\n",
       "       [5.07626800e-01],\n",
       "       [5.05497808e-01],\n",
       "       [5.31020664e-01],\n",
       "       [5.37532874e-01],\n",
       "       [5.46950532e-01],\n",
       "       [5.33976205e-01],\n",
       "       [5.37783344e-01],\n",
       "       [5.32924233e-01],\n",
       "       [5.51934878e-01],\n",
       "       [5.46098936e-01],\n",
       "       [5.46299311e-01],\n",
       "       [5.31396368e-01],\n",
       "       [5.42968065e-01],\n",
       "       [5.34652473e-01],\n",
       "       [5.16493425e-01],\n",
       "       [4.79248591e-01],\n",
       "       [4.53951158e-01],\n",
       "       [4.65397621e-01],\n",
       "       [4.17482780e-01],\n",
       "       [4.17082029e-01],\n",
       "       [4.80826550e-01],\n",
       "       [4.57056982e-01],\n",
       "       [4.90670006e-01],\n",
       "       [4.66073889e-01],\n",
       "       [4.56330620e-01],\n",
       "       [3.99073262e-01],\n",
       "       [4.47088291e-01],\n",
       "       [4.22266750e-01],\n",
       "       [3.54139011e-01],\n",
       "       [4.28628679e-01],\n",
       "       [3.39060739e-01],\n",
       "       [3.65735755e-01],\n",
       "       [3.50231684e-01],\n",
       "       [3.45497808e-01],\n",
       "       [3.06574828e-01],\n",
       "       [2.94376957e-01],\n",
       "       [3.50757671e-01],\n",
       "       [3.47351284e-01],\n",
       "       [3.79711960e-01],\n",
       "       [3.52911709e-01],\n",
       "       [3.70619912e-01],\n",
       "       [3.69317470e-01],\n",
       "       [3.35804634e-01],\n",
       "       [3.45873513e-01],\n",
       "       [3.37056982e-01],\n",
       "       [3.89805886e-01],\n",
       "       [3.82191609e-01],\n",
       "       [3.98822793e-01],\n",
       "       [4.03631810e-01],\n",
       "       [4.16806512e-01],\n",
       "       [4.51371321e-01],\n",
       "       [4.44809017e-01],\n",
       "       [4.50469631e-01],\n",
       "       [4.40726362e-01],\n",
       "       [4.26023795e-01],\n",
       "       [4.04583594e-01],\n",
       "       [4.23944897e-01],\n",
       "       [4.21264872e-01],\n",
       "       [4.41152160e-01],\n",
       "       [4.41653100e-01],\n",
       "       [4.30156544e-01],\n",
       "       [4.53074515e-01],\n",
       "       [4.68278021e-01],\n",
       "       [4.56430808e-01],\n",
       "       [4.66675016e-01],\n",
       "       [4.77695679e-01],\n",
       "       [4.85385097e-01],\n",
       "       [4.93174703e-01],\n",
       "       [5.09179712e-01],\n",
       "       [5.21402630e-01],\n",
       "       [5.12385723e-01],\n",
       "       [5.02968065e-01],\n",
       "       [5.07701941e-01],\n",
       "       [5.03118347e-01],\n",
       "       [5.21277395e-01],\n",
       "       [5.16718848e-01],\n",
       "       [5.31972448e-01],\n",
       "       [5.26011271e-01],\n",
       "       [5.31120852e-01],\n",
       "       [5.25710708e-01],\n",
       "       [5.29167188e-01],\n",
       "       [5.29517846e-01],\n",
       "       [5.28741390e-01],\n",
       "       [5.38534753e-01],\n",
       "       [5.42266750e-01],\n",
       "       [5.46725110e-01],\n",
       "       [5.39711960e-01],\n",
       "       [5.62705072e-01],\n",
       "       [5.67614277e-01],\n",
       "       [5.93988729e-01],\n",
       "       [6.16155291e-01],\n",
       "       [5.73725736e-01],\n",
       "       [5.80989355e-01],\n",
       "       [5.91484033e-01],\n",
       "       [6.14251722e-01],\n",
       "       [6.13024421e-01],\n",
       "       [6.13375078e-01],\n",
       "       [6.08340639e-01],\n",
       "       [6.31258610e-01],\n",
       "       [6.50444584e-01],\n",
       "       [6.34239198e-01],\n",
       "       [6.46211647e-01],\n",
       "       [6.18134001e-01],\n",
       "       [6.38547276e-01],\n",
       "       [6.46111459e-01],\n",
       "       [6.44383219e-01],\n",
       "       [6.44383219e-01],\n",
       "       [6.68778961e-01],\n",
       "       [6.65873513e-01],\n",
       "       [6.87614277e-01],\n",
       "       [6.91721979e-01],\n",
       "       [6.93400125e-01],\n",
       "       [6.88966813e-01],\n",
       "       [7.04796493e-01],\n",
       "       [7.11484033e-01],\n",
       "       [6.99436443e-01],\n",
       "       [6.97482780e-01],\n",
       "       [7.17820914e-01],\n",
       "       [7.04220413e-01],\n",
       "       [7.06950532e-01],\n",
       "       [6.62592361e-01],\n",
       "       [6.60288040e-01],\n",
       "       [6.82279274e-01],\n",
       "       [6.66675016e-01],\n",
       "       [6.84583594e-01],\n",
       "       [6.96105197e-01],\n",
       "       [7.96994364e-01],\n",
       "       [8.23819662e-01],\n",
       "       [8.31108328e-01],\n",
       "       [8.35090795e-01],\n",
       "       [8.73562930e-01],\n",
       "       [8.45610520e-01],\n",
       "       [8.61790858e-01],\n",
       "       [8.28202880e-01],\n",
       "       [8.64621165e-01],\n",
       "       [8.84658735e-01],\n",
       "       [8.83631810e-01],\n",
       "       [8.80626174e-01],\n",
       "       [8.90194114e-01],\n",
       "       [8.91646838e-01],\n",
       "       [9.17370069e-01],\n",
       "       [9.78434565e-01],\n",
       "       [9.93337508e-01],\n",
       "       [9.82993112e-01],\n",
       "       [1.00000000e+00],\n",
       "       [9.84846587e-01],\n",
       "       [9.82817783e-01],\n",
       "       [5.56042580e-02],\n",
       "       [6.84783970e-02],\n",
       "       [6.15153413e-02],\n",
       "       [3.51659361e-02],\n",
       "       [3.53663118e-02],\n",
       "       [1.49780839e-02],\n",
       "       [2.62492173e-02],\n",
       "       [1.66562304e-02],\n",
       "       [1.29242329e-02],\n",
       "       [2.13274890e-02],\n",
       "       [2.17908579e-02],\n",
       "       [1.32498435e-02],\n",
       "       [8.76643707e-03],\n",
       "       [0.00000000e+00],\n",
       "       [8.11521603e-03],\n",
       "       [1.24483406e-02],\n",
       "       [7.01314966e-04],\n",
       "       [3.45648090e-03],\n",
       "       [1.36255479e-02],\n",
       "       [2.03381340e-02],\n",
       "       [1.81590482e-02],\n",
       "       [2.24671259e-02],\n",
       "       [2.49217282e-02],\n",
       "       [1.54790232e-02],\n",
       "       [2.41953663e-02],\n",
       "       [1.58296807e-02],\n",
       "       [2.06386976e-02],\n",
       "       [2.03631810e-02],\n",
       "       [2.53725736e-02],\n",
       "       [4.39824671e-02],\n",
       "       [3.57169693e-02],\n",
       "       [3.59423920e-02],\n",
       "       [3.47401378e-02],\n",
       "       [3.05072010e-02],\n",
       "       [2.28929242e-02],\n",
       "       [2.67251096e-02],\n",
       "       [2.51221039e-02],\n",
       "       [2.23168441e-02],\n",
       "       [2.05385097e-02],\n",
       "       [2.05635567e-02],\n",
       "       [2.44458359e-02],\n",
       "       [1.09204759e-02],\n",
       "       [2.12398247e-02],\n",
       "       [5.05948654e-03],\n",
       "       [4.83406387e-03],\n",
       "       [9.01690670e-03],\n",
       "       [2.03130870e-02],\n",
       "       [3.05322480e-02],\n",
       "       [2.96806512e-02],\n",
       "       [2.37445210e-02],\n",
       "       [2.28678773e-02],\n",
       "       [3.16844083e-02],\n",
       "       [3.09830933e-02],\n",
       "       [3.11083281e-02],\n",
       "       [3.37132123e-02],\n",
       "       [3.14339386e-02],\n",
       "       [2.80275517e-02],\n",
       "       [2.95554164e-02],\n",
       "       [2.62993112e-02],\n",
       "       [1.75579211e-02],\n",
       "       [2.08641202e-02],\n",
       "       [2.30181590e-02],\n",
       "       [2.44207890e-02],\n",
       "       [3.05823419e-02],\n",
       "       [3.97745773e-02],\n",
       "       [4.06762680e-02],\n",
       "       [4.03256105e-02],\n",
       "       [3.85973701e-02],\n",
       "       [4.23544145e-02],\n",
       "       [4.39323732e-02],\n",
       "       [3.74201628e-02],\n",
       "       [4.10770194e-02],\n",
       "       [3.89981215e-02],\n",
       "       [3.74201628e-02],\n",
       "       [5.26988103e-02],\n",
       "       [5.25234815e-02],\n",
       "       [5.47526612e-02],\n",
       "       [4.96305573e-02],\n",
       "       [5.35754540e-02],\n",
       "       [6.27175955e-02],\n",
       "       [6.04132749e-02],\n",
       "       [6.29430182e-02],\n",
       "       [7.47651847e-02],\n",
       "       [7.02066374e-02],\n",
       "       [6.73262367e-02],\n",
       "       [6.47463995e-02],\n",
       "       [5.65309956e-02],\n",
       "       [6.05385097e-02],\n",
       "       [4.94927990e-02],\n",
       "       [6.03130870e-02],\n",
       "       [6.31433939e-02],\n",
       "       [5.54539762e-02],\n",
       "       [5.50031309e-02],\n",
       "       [6.02379461e-02],\n",
       "       [5.52786475e-02],\n",
       "       [5.08453350e-02],\n",
       "       [5.25735755e-02],\n",
       "       [6.30932999e-02],\n",
       "       [7.52160301e-02],\n",
       "       [8.07263619e-02],\n",
       "       [9.03694427e-02],\n",
       "       [9.09705698e-02],\n",
       "       [8.82154039e-02],\n",
       "       [7.57670632e-02],\n",
       "       [6.29179712e-02],\n",
       "       [6.83782091e-02],\n",
       "       [7.05072010e-02],\n",
       "       [6.78772699e-02],\n",
       "       [7.65184721e-02],\n",
       "       [7.49405135e-02],\n",
       "       [7.53162179e-02],\n",
       "       [7.30619912e-02],\n",
       "       [7.15090795e-02],\n",
       "       [7.08578585e-02],\n",
       "       [7.14589856e-02],\n",
       "       [6.59987477e-02],\n",
       "       [6.01127113e-02],\n",
       "       [5.72824045e-02],\n",
       "       [5.76831559e-02],\n",
       "       [4.79899812e-02],\n",
       "       [4.76393237e-02],\n",
       "       [4.63619286e-02],\n",
       "       [3.54414527e-02],\n",
       "       [3.61177207e-02],\n",
       "       [5.24733876e-02],\n",
       "       [4.57858485e-02],\n",
       "       [3.81214778e-02],\n",
       "       [3.32874139e-02],\n",
       "       [3.65184721e-02],\n",
       "       [2.38447088e-02],\n",
       "       [3.56793989e-02],\n",
       "       [3.29117095e-02],\n",
       "       [3.78710081e-02],\n",
       "       [3.55416406e-02],\n",
       "       [4.29555416e-02],\n",
       "       [4.69129618e-02],\n",
       "       [4.48841578e-02],\n",
       "       [3.42892924e-02],\n",
       "       [3.29367564e-02],\n",
       "       [4.14527239e-02],\n",
       "       [3.93237320e-02],\n",
       "       [3.31872260e-02],\n",
       "       [3.44395742e-02],\n",
       "       [3.59924859e-02],\n",
       "       [3.64433312e-02],\n",
       "       [3.27113338e-02],\n",
       "       [3.83469004e-02],\n",
       "       [4.04758923e-02],\n",
       "       [4.77395116e-02],\n",
       "       [4.85159674e-02],\n",
       "       [5.27489042e-02],\n",
       "       [5.89104571e-02],\n",
       "       [6.55103319e-02],\n",
       "       [6.11145899e-02],\n",
       "       [6.91045711e-02],\n",
       "       [6.30932999e-02],\n",
       "       [6.92798998e-02],\n",
       "       [6.84283031e-02],\n",
       "       [7.01314966e-02],\n",
       "       [6.57983719e-02],\n",
       "       [6.67752035e-02],\n",
       "       [6.28678773e-02],\n",
       "       [6.88290545e-02],\n",
       "       [6.98309330e-02],\n",
       "       [6.90043832e-02],\n",
       "       [6.69755792e-02],\n",
       "       [6.67251096e-02],\n",
       "       [6.16656230e-02],\n",
       "       [6.43706951e-02],\n",
       "       [5.26236694e-02],\n",
       "       [5.32498435e-02],\n",
       "       [5.73575454e-02],\n",
       "       [5.85347527e-02],\n",
       "       [5.01189731e-02],\n",
       "       [4.77645585e-02],\n",
       "       [3.98998121e-02],\n",
       "       [4.54101440e-02],\n",
       "       [5.16217909e-02],\n",
       "       [4.86662492e-02],\n",
       "       [4.51095805e-02],\n",
       "       [4.47088291e-02],\n",
       "       [5.12711334e-02],\n",
       "       [4.65623043e-02],\n",
       "       [5.07451472e-02],\n",
       "       [5.02442079e-02],\n",
       "       [5.01189731e-02],\n",
       "       [4.61865999e-02],\n",
       "       [4.45084534e-02],\n",
       "       [4.36819036e-02],\n",
       "       [4.56355667e-02],\n",
       "       [4.18284283e-02],\n",
       "       [4.77144646e-02],\n",
       "       [4.77395116e-02],\n",
       "       [4.98434565e-02],\n",
       "       [5.08202880e-02],\n",
       "       [4.82654978e-02],\n",
       "       [5.13713212e-02],\n",
       "       [5.92110207e-02],\n",
       "       [5.71070758e-02],\n",
       "       [5.83844709e-02],\n",
       "       [6.24921728e-02],\n",
       "       [5.91609267e-02],\n",
       "       [6.37695679e-02],\n",
       "       [6.79774577e-02],\n",
       "       [6.72761428e-02],\n",
       "       [6.65497808e-02],\n",
       "       [6.57983719e-02],\n",
       "       [6.99812148e-02],\n",
       "       [7.38634941e-02],\n",
       "       [7.54414527e-02],\n",
       "       [7.62179086e-02],\n",
       "       [8.29555416e-02],\n",
       "       [8.81152160e-02],\n",
       "       [9.45021916e-02],\n",
       "       [9.11709455e-02],\n",
       "       [9.58547276e-02],\n",
       "       [9.43268629e-02],\n",
       "       [9.71822167e-02],\n",
       "       [1.05973701e-01],\n",
       "       [1.04295554e-01],\n",
       "       [9.90607389e-02],\n",
       "       [8.91922354e-02],\n",
       "       [9.84596118e-02],\n",
       "       [9.65810895e-02],\n",
       "       [1.00087664e-01],\n",
       "       [1.04495930e-01],\n",
       "       [1.05572949e-01],\n",
       "       [1.00012523e-01],\n",
       "       [9.55291171e-02],\n",
       "       [9.71822167e-02],\n",
       "       [9.77332498e-02],\n",
       "       [9.68816531e-02],\n",
       "       [1.01490294e-01],\n",
       "       [1.00463369e-01],\n",
       "       [1.00738885e-01],\n",
       "       [9.84345648e-02],\n",
       "       [9.83093300e-02],\n",
       "       [9.70820288e-02],\n",
       "       [9.77332498e-02],\n",
       "       [1.05322480e-01],\n",
       "       [1.05848466e-01],\n",
       "       [1.10907952e-01],\n",
       "       [1.08578585e-01],\n",
       "       [9.89855980e-02],\n",
       "       [9.98371947e-02],\n",
       "       [1.03569192e-01],\n",
       "       [1.07376331e-01],\n",
       "       [1.07150908e-01],\n",
       "       [1.03994991e-01],\n",
       "       [1.01941140e-01],\n",
       "       [1.04596118e-01],\n",
       "       [1.15917345e-01],\n",
       "       [1.12686287e-01],\n",
       "       [1.14389480e-01],\n",
       "       [1.17244834e-01],\n",
       "       [1.18872887e-01],\n",
       "       [1.24859111e-01],\n",
       "       [1.20901691e-01],\n",
       "       [1.18296807e-01],\n",
       "       [1.05522855e-01],\n",
       "       [1.06975579e-01],\n",
       "       [1.03393863e-01],\n",
       "       [1.05673137e-01],\n",
       "       [1.05072010e-01],\n",
       "       [9.82341891e-02],\n",
       "       [9.04195366e-02],\n",
       "       [9.16468378e-02],\n",
       "       [9.77082029e-02],\n",
       "       [1.00162805e-01],\n",
       "       [1.00388228e-01],\n",
       "       [9.65059487e-02],\n",
       "       [8.78396994e-02],\n",
       "       [9.01440200e-02],\n",
       "       [8.68127740e-02],\n",
       "       [8.96931747e-02],\n",
       "       [8.09016907e-02],\n",
       "       [8.58359424e-02],\n",
       "       [8.80651221e-02],\n",
       "       [9.12961803e-02],\n",
       "       [9.03193488e-02],\n",
       "       [9.00939261e-02],\n",
       "       [8.68378209e-02],\n",
       "       [8.53350031e-02],\n",
       "       [9.24733876e-02],\n",
       "       [9.51784596e-02],\n",
       "       [9.94614903e-02],\n",
       "       [1.04996869e-01],\n",
       "       [1.06249217e-01],\n",
       "       [1.06800250e-01],\n",
       "       [1.04821540e-01],\n",
       "       [1.04696306e-01],\n",
       "       [1.06399499e-01],\n",
       "       [1.05222292e-01],\n",
       "       [1.14539762e-01],\n",
       "       [1.07601753e-01],\n",
       "       [1.05497808e-01],\n",
       "       [1.08152786e-01],\n",
       "       [1.11834690e-01],\n",
       "       [1.10507201e-01],\n",
       "       [1.11308704e-01],\n",
       "       [1.09204759e-01],\n",
       "       [1.10131497e-01],\n",
       "       [1.02892924e-01],\n",
       "       [1.02767689e-01],\n",
       "       [1.08077646e-01],\n",
       "       [1.08102693e-01],\n",
       "       [1.10607389e-01],\n",
       "       [1.16844083e-01],\n",
       "       [1.27814652e-01],\n",
       "       [1.34527239e-01],\n",
       "       [1.35704446e-01],\n",
       "       [1.36681277e-01],\n",
       "       [1.38008766e-01],\n",
       "       [1.25159674e-01],\n",
       "       [1.33750783e-01],\n",
       "       [1.46424546e-01],\n",
       "       [1.45097057e-01],\n",
       "       [1.42567314e-01],\n",
       "       [1.37758297e-01],\n",
       "       [1.46474640e-01],\n",
       "       [1.61152160e-01],\n",
       "       [1.70920476e-01],\n",
       "       [1.69618034e-01],\n",
       "       [1.81865999e-01],\n",
       "       [1.72573575e-01],\n",
       "       [1.69041954e-01],\n",
       "       [1.81490294e-01],\n",
       "       [1.63857232e-01],\n",
       "       [1.61051972e-01],\n",
       "       [1.57570445e-01],\n",
       "       [1.65685661e-01],\n",
       "       [1.72323106e-01],\n",
       "       [1.73926111e-01],\n",
       "       [1.84070131e-01],\n",
       "       [1.81465247e-01],\n",
       "       [1.81690670e-01],\n",
       "       [1.78735128e-01],\n",
       "       [1.77157170e-01],\n",
       "       [1.88278021e-01],\n",
       "       [1.82492173e-01],\n",
       "       [1.70519724e-01],\n",
       "       [1.63206011e-01],\n",
       "       [1.63631810e-01],\n",
       "       [1.63681904e-01],\n",
       "       [1.70920476e-01],\n",
       "       [1.72047589e-01],\n",
       "       [1.63681904e-01],\n",
       "       [1.65886036e-01],\n",
       "       [1.57695679e-01],\n",
       "       [1.48753914e-01],\n",
       "       [1.44445836e-01],\n",
       "       [1.39185974e-01],\n",
       "       [1.37207264e-01],\n",
       "       [1.32598622e-01],\n",
       "       [1.32373200e-01],\n",
       "       [1.31195992e-01],\n",
       "       [1.59023168e-01],\n",
       "       [1.70169067e-01],\n",
       "       [1.69743269e-01],\n",
       "       [1.72824045e-01],\n",
       "       [1.65460238e-01],\n",
       "       [1.64182843e-01],\n",
       "       [1.62354415e-01],\n",
       "       [1.70294302e-01],\n",
       "       [1.73926111e-01],\n",
       "       [1.63506575e-01],\n",
       "       [1.54790232e-01],\n",
       "       [1.55391359e-01],\n",
       "       [1.65184721e-01],\n",
       "       [1.64583594e-01],\n",
       "       [1.55391359e-01],\n",
       "       [1.51433939e-01],\n",
       "       [1.43969944e-01],\n",
       "       [1.33324984e-01],\n",
       "       [1.40012523e-01],\n",
       "       [1.45297433e-01],\n",
       "       [1.45973701e-01],\n",
       "       [1.41164684e-01],\n",
       "       [1.49580463e-01],\n",
       "       [1.48753914e-01],\n",
       "       [1.41089543e-01],\n",
       "       [1.31396368e-01],\n",
       "       [1.26737633e-01],\n",
       "       [1.40538510e-01],\n",
       "       [1.29442705e-01],\n",
       "       [1.19949906e-01],\n",
       "       [1.09655604e-01],\n",
       "       [1.20851597e-01],\n",
       "       [1.32122730e-01],\n",
       "       [1.34702567e-01],\n",
       "       [1.43118347e-01],\n",
       "       [1.46624922e-01],\n",
       "       [1.55241077e-01],\n",
       "       [1.58722605e-01],\n",
       "       [1.68390733e-01],\n",
       "       [1.70018785e-01],\n",
       "       [1.72222918e-01],\n",
       "       [1.80638698e-01],\n",
       "       [1.77658109e-01],\n",
       "       [1.69743269e-01],\n",
       "       [1.68991860e-01],\n",
       "       [1.79336255e-01],\n",
       "       [1.70870382e-01],\n",
       "       [1.62780213e-01],\n",
       "       [1.63556669e-01],\n",
       "       [1.58422041e-01],\n",
       "       [1.47551659e-01],\n",
       "       [1.52335629e-01],\n",
       "       [1.59198497e-01],\n",
       "       [1.46399499e-01],\n",
       "       [1.45848466e-01],\n",
       "       [1.51684408e-01],\n",
       "       [1.51258610e-01],\n",
       "       [1.49229806e-01],\n",
       "       [1.37633062e-01],\n",
       "       [1.40363181e-01],\n",
       "       [1.25134627e-01],\n",
       "       [1.24558547e-01],\n",
       "       [1.42266750e-01],\n",
       "       [1.27263619e-01],\n",
       "       [1.28040075e-01],\n",
       "       [1.31847214e-01],\n",
       "       [1.48227927e-01],\n",
       "       [1.25059487e-01],\n",
       "       [1.26336882e-01],\n",
       "       [1.13262367e-01],\n",
       "       [1.19398873e-01],\n",
       "       [9.93362555e-02],\n",
       "       [8.94677520e-02],\n",
       "       [1.00864120e-01],\n",
       "       [9.69317470e-02],\n",
       "       [1.06199123e-01],\n",
       "       [8.51095805e-02],\n",
       "       [7.64182843e-02],\n",
       "       [7.70194114e-02],\n",
       "       [9.08453350e-02],\n",
       "       [8.39574202e-02],\n",
       "       [8.43581716e-02],\n",
       "       [9.25234815e-02],\n",
       "       [1.07201002e-01],\n",
       "       [1.05197245e-01],\n",
       "       [1.04871634e-01],\n",
       "       [1.11133375e-01],\n",
       "       [9.65309956e-02],\n",
       "       [9.84345648e-02],\n",
       "       [1.04871634e-01],\n",
       "       [1.02993112e-01],\n",
       "       [8.96681277e-02],\n",
       "       [7.58672511e-02],\n",
       "       [6.27175955e-02],\n",
       "       [6.49217282e-02],\n",
       "       [7.16092674e-02],\n",
       "       [5.81590482e-02],\n",
       "       [6.19160927e-02],\n",
       "       [7.27113338e-02],\n",
       "       [7.14088917e-02],\n",
       "       [7.87226049e-02],\n",
       "       [8.72135254e-02],\n",
       "       [8.72135254e-02],\n",
       "       [7.66437070e-02],\n",
       "       [8.11271133e-02],\n",
       "       [7.48403256e-02],\n",
       "       [8.03757044e-02],\n",
       "       [8.69630557e-02],\n",
       "       [9.03694427e-02],\n",
       "       [9.89605510e-02],\n",
       "       [1.00688791e-01],\n",
       "       [9.52536005e-02],\n",
       "       [9.77332498e-02],\n",
       "       [9.68065122e-02],\n",
       "       [1.04270507e-01],\n",
       "       [1.08528491e-01],\n",
       "       [1.00763932e-01],\n",
       "       [1.10607389e-01],\n",
       "       [1.15716969e-01],\n",
       "       [1.21502818e-01],\n",
       "       [1.18346900e-01],\n",
       "       [1.15491547e-01],\n",
       "       [1.12110207e-01],\n",
       "       [1.25109580e-01],\n",
       "       [1.26512210e-01],\n",
       "       [1.39436443e-01],\n",
       "       [1.36931747e-01],\n",
       "       [1.33174703e-01],\n",
       "       [1.48503444e-01],\n",
       "       [1.47701941e-01]])"
      ]
     },
     "execution_count": 31,
     "metadata": {},
     "output_type": "execute_result"
    }
   ],
   "source": [
    "train_data"
   ]
  },
  {
   "cell_type": "code",
   "execution_count": 32,
   "metadata": {},
   "outputs": [],
   "source": [
    "import numpy\n",
    "# convert an array of values into a dataset matrix\n",
    "def create_dataset(dataset, time_step=1):\n",
    "\tdataX, dataY = [], []\n",
    "\tfor i in range(len(dataset)-time_step-1):\n",
    "\t\ta = dataset[i:(i+time_step), 0]   ###i=0, 0,1,2,3-----99   100 \n",
    "\t\tdataX.append(a)\n",
    "\t\tdataY.append(dataset[i + time_step, 0])\n",
    "\treturn numpy.array(dataX), numpy.array(dataY)"
   ]
  },
  {
   "cell_type": "code",
   "execution_count": 33,
   "metadata": {},
   "outputs": [],
   "source": [
    "# reshape into X=t,t+1,t+2,t+3 and Y=t+4\n",
    "\n",
    "X_train, y_train = create_dataset(train_data, time_step)\n",
    "X_test, ytest = create_dataset(test_data, time_step)"
   ]
  },
  {
   "cell_type": "code",
   "execution_count": 34,
   "metadata": {},
   "outputs": [
    {
     "name": "stdout",
     "output_type": "stream",
     "text": [
      "(552, 100)\n",
      "(552,)\n"
     ]
    },
    {
     "data": {
      "text/plain": [
       "(None, None)"
      ]
     },
     "execution_count": 34,
     "metadata": {},
     "output_type": "execute_result"
    }
   ],
   "source": [
    "print(X_train.shape), print(y_train.shape)"
   ]
  },
  {
   "cell_type": "code",
   "execution_count": 35,
   "metadata": {},
   "outputs": [
    {
     "name": "stdout",
     "output_type": "stream",
     "text": [
      "(252, 100)\n",
      "(252,)\n"
     ]
    },
    {
     "data": {
      "text/plain": [
       "(None, None)"
      ]
     },
     "execution_count": 35,
     "metadata": {},
     "output_type": "execute_result"
    }
   ],
   "source": [
    "print(X_test.shape), print(ytest.shape)"
   ]
  },
  {
   "cell_type": "code",
   "execution_count": 36,
   "metadata": {},
   "outputs": [],
   "source": [
    "# reshape input to be [samples, time steps, features] which is required for LSTM\n",
    "X_train =X_train.reshape(X_train.shape[0],X_train.shape[1] , 1)\n",
    "X_test = X_test.reshape(X_test.shape[0],X_test.shape[1] , 1)"
   ]
  },
  {
   "cell_type": "code",
   "execution_count": 37,
   "metadata": {},
   "outputs": [],
   "source": [
    "### Create the Stacked LSTM model\n",
    "from tensorflow.keras.models import Sequential\n",
    "from tensorflow.keras.layers import Dense\n",
    "from tensorflow.keras.layers import LSTM"
   ]
  },
  {
   "cell_type": "code",
   "execution_count": 38,
   "metadata": {},
   "outputs": [
    {
     "name": "stderr",
     "output_type": "stream",
     "text": [
      "d:\\Apps\\Python\\Lib\\site-packages\\keras\\src\\layers\\rnn\\rnn.py:200: UserWarning: Do not pass an `input_shape`/`input_dim` argument to a layer. When using Sequential models, prefer using an `Input(shape)` object as the first layer in the model instead.\n",
      "  super().__init__(**kwargs)\n"
     ]
    }
   ],
   "source": [
    "model=Sequential()\n",
    "model.add(LSTM(50,return_sequences=True,input_shape=(100,1))) # 100 time steps and 1 feature\n",
    "model.add(LSTM(50,return_sequences=True))\n",
    "model.add(LSTM(50))\n",
    "model.add(Dense(1))\n",
    "model.compile(loss='mean_squared_error',optimizer='adam')\n"
   ]
  },
  {
   "cell_type": "code",
   "execution_count": 39,
   "metadata": {},
   "outputs": [
    {
     "data": {
      "text/html": [
       "<pre style=\"white-space:pre;overflow-x:auto;line-height:normal;font-family:Menlo,'DejaVu Sans Mono',consolas,'Courier New',monospace\"><span style=\"font-weight: bold\">Model: \"sequential\"</span>\n",
       "</pre>\n"
      ],
      "text/plain": [
       "\u001b[1mModel: \"sequential\"\u001b[0m\n"
      ]
     },
     "metadata": {},
     "output_type": "display_data"
    },
    {
     "data": {
      "text/html": [
       "<pre style=\"white-space:pre;overflow-x:auto;line-height:normal;font-family:Menlo,'DejaVu Sans Mono',consolas,'Courier New',monospace\">┏━━━━━━━━━━━━━━━━━━━━━━━━━━━━━━━━━┳━━━━━━━━━━━━━━━━━━━━━━━━┳━━━━━━━━━━━━━━━┓\n",
       "┃<span style=\"font-weight: bold\"> Layer (type)                    </span>┃<span style=\"font-weight: bold\"> Output Shape           </span>┃<span style=\"font-weight: bold\">       Param # </span>┃\n",
       "┡━━━━━━━━━━━━━━━━━━━━━━━━━━━━━━━━━╇━━━━━━━━━━━━━━━━━━━━━━━━╇━━━━━━━━━━━━━━━┩\n",
       "│ lstm (<span style=\"color: #0087ff; text-decoration-color: #0087ff\">LSTM</span>)                     │ (<span style=\"color: #00d7ff; text-decoration-color: #00d7ff\">None</span>, <span style=\"color: #00af00; text-decoration-color: #00af00\">100</span>, <span style=\"color: #00af00; text-decoration-color: #00af00\">50</span>)        │        <span style=\"color: #00af00; text-decoration-color: #00af00\">10,400</span> │\n",
       "├─────────────────────────────────┼────────────────────────┼───────────────┤\n",
       "│ lstm_1 (<span style=\"color: #0087ff; text-decoration-color: #0087ff\">LSTM</span>)                   │ (<span style=\"color: #00d7ff; text-decoration-color: #00d7ff\">None</span>, <span style=\"color: #00af00; text-decoration-color: #00af00\">100</span>, <span style=\"color: #00af00; text-decoration-color: #00af00\">50</span>)        │        <span style=\"color: #00af00; text-decoration-color: #00af00\">20,200</span> │\n",
       "├─────────────────────────────────┼────────────────────────┼───────────────┤\n",
       "│ lstm_2 (<span style=\"color: #0087ff; text-decoration-color: #0087ff\">LSTM</span>)                   │ (<span style=\"color: #00d7ff; text-decoration-color: #00d7ff\">None</span>, <span style=\"color: #00af00; text-decoration-color: #00af00\">50</span>)             │        <span style=\"color: #00af00; text-decoration-color: #00af00\">20,200</span> │\n",
       "├─────────────────────────────────┼────────────────────────┼───────────────┤\n",
       "│ dense (<span style=\"color: #0087ff; text-decoration-color: #0087ff\">Dense</span>)                   │ (<span style=\"color: #00d7ff; text-decoration-color: #00d7ff\">None</span>, <span style=\"color: #00af00; text-decoration-color: #00af00\">1</span>)              │            <span style=\"color: #00af00; text-decoration-color: #00af00\">51</span> │\n",
       "└─────────────────────────────────┴────────────────────────┴───────────────┘\n",
       "</pre>\n"
      ],
      "text/plain": [
       "┏━━━━━━━━━━━━━━━━━━━━━━━━━━━━━━━━━┳━━━━━━━━━━━━━━━━━━━━━━━━┳━━━━━━━━━━━━━━━┓\n",
       "┃\u001b[1m \u001b[0m\u001b[1mLayer (type)                   \u001b[0m\u001b[1m \u001b[0m┃\u001b[1m \u001b[0m\u001b[1mOutput Shape          \u001b[0m\u001b[1m \u001b[0m┃\u001b[1m \u001b[0m\u001b[1m      Param #\u001b[0m\u001b[1m \u001b[0m┃\n",
       "┡━━━━━━━━━━━━━━━━━━━━━━━━━━━━━━━━━╇━━━━━━━━━━━━━━━━━━━━━━━━╇━━━━━━━━━━━━━━━┩\n",
       "│ lstm (\u001b[38;5;33mLSTM\u001b[0m)                     │ (\u001b[38;5;45mNone\u001b[0m, \u001b[38;5;34m100\u001b[0m, \u001b[38;5;34m50\u001b[0m)        │        \u001b[38;5;34m10,400\u001b[0m │\n",
       "├─────────────────────────────────┼────────────────────────┼───────────────┤\n",
       "│ lstm_1 (\u001b[38;5;33mLSTM\u001b[0m)                   │ (\u001b[38;5;45mNone\u001b[0m, \u001b[38;5;34m100\u001b[0m, \u001b[38;5;34m50\u001b[0m)        │        \u001b[38;5;34m20,200\u001b[0m │\n",
       "├─────────────────────────────────┼────────────────────────┼───────────────┤\n",
       "│ lstm_2 (\u001b[38;5;33mLSTM\u001b[0m)                   │ (\u001b[38;5;45mNone\u001b[0m, \u001b[38;5;34m50\u001b[0m)             │        \u001b[38;5;34m20,200\u001b[0m │\n",
       "├─────────────────────────────────┼────────────────────────┼───────────────┤\n",
       "│ dense (\u001b[38;5;33mDense\u001b[0m)                   │ (\u001b[38;5;45mNone\u001b[0m, \u001b[38;5;34m1\u001b[0m)              │            \u001b[38;5;34m51\u001b[0m │\n",
       "└─────────────────────────────────┴────────────────────────┴───────────────┘\n"
      ]
     },
     "metadata": {},
     "output_type": "display_data"
    },
    {
     "data": {
      "text/html": [
       "<pre style=\"white-space:pre;overflow-x:auto;line-height:normal;font-family:Menlo,'DejaVu Sans Mono',consolas,'Courier New',monospace\"><span style=\"font-weight: bold\"> Total params: </span><span style=\"color: #00af00; text-decoration-color: #00af00\">50,851</span> (198.64 KB)\n",
       "</pre>\n"
      ],
      "text/plain": [
       "\u001b[1m Total params: \u001b[0m\u001b[38;5;34m50,851\u001b[0m (198.64 KB)\n"
      ]
     },
     "metadata": {},
     "output_type": "display_data"
    },
    {
     "data": {
      "text/html": [
       "<pre style=\"white-space:pre;overflow-x:auto;line-height:normal;font-family:Menlo,'DejaVu Sans Mono',consolas,'Courier New',monospace\"><span style=\"font-weight: bold\"> Trainable params: </span><span style=\"color: #00af00; text-decoration-color: #00af00\">50,851</span> (198.64 KB)\n",
       "</pre>\n"
      ],
      "text/plain": [
       "\u001b[1m Trainable params: \u001b[0m\u001b[38;5;34m50,851\u001b[0m (198.64 KB)\n"
      ]
     },
     "metadata": {},
     "output_type": "display_data"
    },
    {
     "data": {
      "text/html": [
       "<pre style=\"white-space:pre;overflow-x:auto;line-height:normal;font-family:Menlo,'DejaVu Sans Mono',consolas,'Courier New',monospace\"><span style=\"font-weight: bold\"> Non-trainable params: </span><span style=\"color: #00af00; text-decoration-color: #00af00\">0</span> (0.00 B)\n",
       "</pre>\n"
      ],
      "text/plain": [
       "\u001b[1m Non-trainable params: \u001b[0m\u001b[38;5;34m0\u001b[0m (0.00 B)\n"
      ]
     },
     "metadata": {},
     "output_type": "display_data"
    }
   ],
   "source": [
    "model.summary()"
   ]
  },
  {
   "cell_type": "code",
   "execution_count": 41,
   "metadata": {},
   "outputs": [
    {
     "name": "stdout",
     "output_type": "stream",
     "text": [
      "Epoch 1/100\n",
      "\u001b[1m9/9\u001b[0m \u001b[32m━━━━━━━━━━━━━━━━━━━━\u001b[0m\u001b[37m\u001b[0m \u001b[1m4s\u001b[0m 152ms/step - loss: 0.0493 - val_loss: 0.0011\n",
      "Epoch 2/100\n",
      "\u001b[1m9/9\u001b[0m \u001b[32m━━━━━━━━━━━━━━━━━━━━\u001b[0m\u001b[37m\u001b[0m \u001b[1m1s\u001b[0m 101ms/step - loss: 0.0153 - val_loss: 0.0016\n",
      "Epoch 3/100\n",
      "\u001b[1m9/9\u001b[0m \u001b[32m━━━━━━━━━━━━━━━━━━━━\u001b[0m\u001b[37m\u001b[0m \u001b[1m1s\u001b[0m 86ms/step - loss: 0.0126 - val_loss: 3.7711e-04\n",
      "Epoch 4/100\n",
      "\u001b[1m9/9\u001b[0m \u001b[32m━━━━━━━━━━━━━━━━━━━━\u001b[0m\u001b[37m\u001b[0m \u001b[1m1s\u001b[0m 98ms/step - loss: 0.0150 - val_loss: 2.4056e-04\n",
      "Epoch 5/100\n",
      "\u001b[1m9/9\u001b[0m \u001b[32m━━━━━━━━━━━━━━━━━━━━\u001b[0m\u001b[37m\u001b[0m \u001b[1m1s\u001b[0m 94ms/step - loss: 0.0096 - val_loss: 2.4250e-04\n",
      "Epoch 6/100\n",
      "\u001b[1m9/9\u001b[0m \u001b[32m━━━━━━━━━━━━━━━━━━━━\u001b[0m\u001b[37m\u001b[0m \u001b[1m1s\u001b[0m 95ms/step - loss: 0.0127 - val_loss: 2.0860e-04\n",
      "Epoch 7/100\n",
      "\u001b[1m9/9\u001b[0m \u001b[32m━━━━━━━━━━━━━━━━━━━━\u001b[0m\u001b[37m\u001b[0m \u001b[1m1s\u001b[0m 100ms/step - loss: 0.0074 - val_loss: 7.0117e-04\n",
      "Epoch 8/100\n",
      "\u001b[1m9/9\u001b[0m \u001b[32m━━━━━━━━━━━━━━━━━━━━\u001b[0m\u001b[37m\u001b[0m \u001b[1m1s\u001b[0m 104ms/step - loss: 0.0077 - val_loss: 9.3384e-04\n",
      "Epoch 9/100\n",
      "\u001b[1m9/9\u001b[0m \u001b[32m━━━━━━━━━━━━━━━━━━━━\u001b[0m\u001b[37m\u001b[0m \u001b[1m1s\u001b[0m 97ms/step - loss: 0.0059 - val_loss: 6.4589e-04\n",
      "Epoch 10/100\n",
      "\u001b[1m9/9\u001b[0m \u001b[32m━━━━━━━━━━━━━━━━━━━━\u001b[0m\u001b[37m\u001b[0m \u001b[1m1s\u001b[0m 96ms/step - loss: 0.0071 - val_loss: 3.3269e-04\n",
      "Epoch 11/100\n",
      "\u001b[1m9/9\u001b[0m \u001b[32m━━━━━━━━━━━━━━━━━━━━\u001b[0m\u001b[37m\u001b[0m \u001b[1m1s\u001b[0m 95ms/step - loss: 0.0093 - val_loss: 8.6658e-04\n",
      "Epoch 12/100\n",
      "\u001b[1m9/9\u001b[0m \u001b[32m━━━━━━━━━━━━━━━━━━━━\u001b[0m\u001b[37m\u001b[0m \u001b[1m1s\u001b[0m 89ms/step - loss: 0.0070 - val_loss: 2.7119e-04\n",
      "Epoch 13/100\n",
      "\u001b[1m9/9\u001b[0m \u001b[32m━━━━━━━━━━━━━━━━━━━━\u001b[0m\u001b[37m\u001b[0m \u001b[1m1s\u001b[0m 95ms/step - loss: 0.0059 - val_loss: 9.0974e-04\n",
      "Epoch 14/100\n",
      "\u001b[1m9/9\u001b[0m \u001b[32m━━━━━━━━━━━━━━━━━━━━\u001b[0m\u001b[37m\u001b[0m \u001b[1m1s\u001b[0m 92ms/step - loss: 0.0043 - val_loss: 2.3661e-04\n",
      "Epoch 15/100\n",
      "\u001b[1m9/9\u001b[0m \u001b[32m━━━━━━━━━━━━━━━━━━━━\u001b[0m\u001b[37m\u001b[0m \u001b[1m1s\u001b[0m 93ms/step - loss: 0.0047 - val_loss: 4.4290e-04\n",
      "Epoch 16/100\n",
      "\u001b[1m9/9\u001b[0m \u001b[32m━━━━━━━━━━━━━━━━━━━━\u001b[0m\u001b[37m\u001b[0m \u001b[1m1s\u001b[0m 96ms/step - loss: 0.0039 - val_loss: 0.0014\n",
      "Epoch 17/100\n",
      "\u001b[1m9/9\u001b[0m \u001b[32m━━━━━━━━━━━━━━━━━━━━\u001b[0m\u001b[37m\u001b[0m \u001b[1m1s\u001b[0m 92ms/step - loss: 0.0045 - val_loss: 3.2010e-04\n",
      "Epoch 18/100\n",
      "\u001b[1m9/9\u001b[0m \u001b[32m━━━━━━━━━━━━━━━━━━━━\u001b[0m\u001b[37m\u001b[0m \u001b[1m1s\u001b[0m 93ms/step - loss: 0.0070 - val_loss: 6.2476e-04\n",
      "Epoch 19/100\n",
      "\u001b[1m9/9\u001b[0m \u001b[32m━━━━━━━━━━━━━━━━━━━━\u001b[0m\u001b[37m\u001b[0m \u001b[1m1s\u001b[0m 95ms/step - loss: 0.0030 - val_loss: 3.0613e-04\n",
      "Epoch 20/100\n",
      "\u001b[1m9/9\u001b[0m \u001b[32m━━━━━━━━━━━━━━━━━━━━\u001b[0m\u001b[37m\u001b[0m \u001b[1m1s\u001b[0m 93ms/step - loss: 0.0030 - val_loss: 2.1068e-04\n",
      "Epoch 21/100\n",
      "\u001b[1m9/9\u001b[0m \u001b[32m━━━━━━━━━━━━━━━━━━━━\u001b[0m\u001b[37m\u001b[0m \u001b[1m1s\u001b[0m 94ms/step - loss: 0.0044 - val_loss: 9.7529e-04\n",
      "Epoch 22/100\n",
      "\u001b[1m9/9\u001b[0m \u001b[32m━━━━━━━━━━━━━━━━━━━━\u001b[0m\u001b[37m\u001b[0m \u001b[1m1s\u001b[0m 96ms/step - loss: 0.0048 - val_loss: 2.0399e-04\n",
      "Epoch 23/100\n",
      "\u001b[1m9/9\u001b[0m \u001b[32m━━━━━━━━━━━━━━━━━━━━\u001b[0m\u001b[37m\u001b[0m \u001b[1m1s\u001b[0m 89ms/step - loss: 0.0025 - val_loss: 7.6882e-04\n",
      "Epoch 24/100\n",
      "\u001b[1m9/9\u001b[0m \u001b[32m━━━━━━━━━━━━━━━━━━━━\u001b[0m\u001b[37m\u001b[0m \u001b[1m1s\u001b[0m 95ms/step - loss: 0.0034 - val_loss: 1.9318e-04\n",
      "Epoch 25/100\n",
      "\u001b[1m9/9\u001b[0m \u001b[32m━━━━━━━━━━━━━━━━━━━━\u001b[0m\u001b[37m\u001b[0m \u001b[1m1s\u001b[0m 85ms/step - loss: 0.0023 - val_loss: 1.9445e-04\n",
      "Epoch 26/100\n",
      "\u001b[1m9/9\u001b[0m \u001b[32m━━━━━━━━━━━━━━━━━━━━\u001b[0m\u001b[37m\u001b[0m \u001b[1m1s\u001b[0m 90ms/step - loss: 0.0027 - val_loss: 2.6538e-04\n",
      "Epoch 27/100\n",
      "\u001b[1m9/9\u001b[0m \u001b[32m━━━━━━━━━━━━━━━━━━━━\u001b[0m\u001b[37m\u001b[0m \u001b[1m1s\u001b[0m 107ms/step - loss: 0.0019 - val_loss: 1.5887e-04\n",
      "Epoch 28/100\n",
      "\u001b[1m9/9\u001b[0m \u001b[32m━━━━━━━━━━━━━━━━━━━━\u001b[0m\u001b[37m\u001b[0m \u001b[1m1s\u001b[0m 118ms/step - loss: 0.0031 - val_loss: 2.0349e-04\n",
      "Epoch 29/100\n",
      "\u001b[1m9/9\u001b[0m \u001b[32m━━━━━━━━━━━━━━━━━━━━\u001b[0m\u001b[37m\u001b[0m \u001b[1m1s\u001b[0m 95ms/step - loss: 0.0025 - val_loss: 2.0213e-04\n",
      "Epoch 30/100\n",
      "\u001b[1m9/9\u001b[0m \u001b[32m━━━━━━━━━━━━━━━━━━━━\u001b[0m\u001b[37m\u001b[0m \u001b[1m1s\u001b[0m 89ms/step - loss: 0.0026 - val_loss: 2.0376e-04\n",
      "Epoch 31/100\n",
      "\u001b[1m9/9\u001b[0m \u001b[32m━━━━━━━━━━━━━━━━━━━━\u001b[0m\u001b[37m\u001b[0m \u001b[1m1s\u001b[0m 90ms/step - loss: 0.0023 - val_loss: 1.8035e-04\n",
      "Epoch 32/100\n",
      "\u001b[1m9/9\u001b[0m \u001b[32m━━━━━━━━━━━━━━━━━━━━\u001b[0m\u001b[37m\u001b[0m \u001b[1m1s\u001b[0m 87ms/step - loss: 0.0018 - val_loss: 2.0911e-04\n",
      "Epoch 33/100\n",
      "\u001b[1m9/9\u001b[0m \u001b[32m━━━━━━━━━━━━━━━━━━━━\u001b[0m\u001b[37m\u001b[0m \u001b[1m1s\u001b[0m 96ms/step - loss: 0.0031 - val_loss: 2.5803e-04\n",
      "Epoch 34/100\n",
      "\u001b[1m9/9\u001b[0m \u001b[32m━━━━━━━━━━━━━━━━━━━━\u001b[0m\u001b[37m\u001b[0m \u001b[1m1s\u001b[0m 94ms/step - loss: 0.0023 - val_loss: 2.7366e-04\n",
      "Epoch 35/100\n",
      "\u001b[1m9/9\u001b[0m \u001b[32m━━━━━━━━━━━━━━━━━━━━\u001b[0m\u001b[37m\u001b[0m \u001b[1m1s\u001b[0m 88ms/step - loss: 0.0028 - val_loss: 2.0290e-04\n",
      "Epoch 36/100\n",
      "\u001b[1m9/9\u001b[0m \u001b[32m━━━━━━━━━━━━━━━━━━━━\u001b[0m\u001b[37m\u001b[0m \u001b[1m1s\u001b[0m 91ms/step - loss: 0.0031 - val_loss: 1.7109e-04\n",
      "Epoch 37/100\n",
      "\u001b[1m9/9\u001b[0m \u001b[32m━━━━━━━━━━━━━━━━━━━━\u001b[0m\u001b[37m\u001b[0m \u001b[1m1s\u001b[0m 89ms/step - loss: 0.0034 - val_loss: 1.6125e-04\n",
      "Epoch 38/100\n",
      "\u001b[1m9/9\u001b[0m \u001b[32m━━━━━━━━━━━━━━━━━━━━\u001b[0m\u001b[37m\u001b[0m \u001b[1m1s\u001b[0m 93ms/step - loss: 0.0015 - val_loss: 3.0923e-04\n",
      "Epoch 39/100\n",
      "\u001b[1m9/9\u001b[0m \u001b[32m━━━━━━━━━━━━━━━━━━━━\u001b[0m\u001b[37m\u001b[0m \u001b[1m1s\u001b[0m 117ms/step - loss: 0.0020 - val_loss: 1.8417e-04\n",
      "Epoch 40/100\n",
      "\u001b[1m9/9\u001b[0m \u001b[32m━━━━━━━━━━━━━━━━━━━━\u001b[0m\u001b[37m\u001b[0m \u001b[1m2s\u001b[0m 181ms/step - loss: 0.0018 - val_loss: 1.9139e-04\n",
      "Epoch 41/100\n",
      "\u001b[1m9/9\u001b[0m \u001b[32m━━━━━━━━━━━━━━━━━━━━\u001b[0m\u001b[37m\u001b[0m \u001b[1m2s\u001b[0m 168ms/step - loss: 0.0025 - val_loss: 2.1249e-04\n",
      "Epoch 42/100\n",
      "\u001b[1m9/9\u001b[0m \u001b[32m━━━━━━━━━━━━━━━━━━━━\u001b[0m\u001b[37m\u001b[0m \u001b[1m1s\u001b[0m 160ms/step - loss: 0.0014 - val_loss: 1.7093e-04\n",
      "Epoch 43/100\n",
      "\u001b[1m9/9\u001b[0m \u001b[32m━━━━━━━━━━━━━━━━━━━━\u001b[0m\u001b[37m\u001b[0m \u001b[1m2s\u001b[0m 162ms/step - loss: 0.0015 - val_loss: 1.8931e-04\n",
      "Epoch 44/100\n",
      "\u001b[1m9/9\u001b[0m \u001b[32m━━━━━━━━━━━━━━━━━━━━\u001b[0m\u001b[37m\u001b[0m \u001b[1m2s\u001b[0m 185ms/step - loss: 0.0014 - val_loss: 1.5948e-04\n",
      "Epoch 45/100\n",
      "\u001b[1m9/9\u001b[0m \u001b[32m━━━━━━━━━━━━━━━━━━━━\u001b[0m\u001b[37m\u001b[0m \u001b[1m1s\u001b[0m 159ms/step - loss: 0.0015 - val_loss: 3.1008e-04\n",
      "Epoch 46/100\n",
      "\u001b[1m9/9\u001b[0m \u001b[32m━━━━━━━━━━━━━━━━━━━━\u001b[0m\u001b[37m\u001b[0m \u001b[1m1s\u001b[0m 156ms/step - loss: 0.0029 - val_loss: 1.5430e-04\n",
      "Epoch 47/100\n",
      "\u001b[1m9/9\u001b[0m \u001b[32m━━━━━━━━━━━━━━━━━━━━\u001b[0m\u001b[37m\u001b[0m \u001b[1m1s\u001b[0m 160ms/step - loss: 0.0019 - val_loss: 1.8279e-04\n",
      "Epoch 48/100\n",
      "\u001b[1m9/9\u001b[0m \u001b[32m━━━━━━━━━━━━━━━━━━━━\u001b[0m\u001b[37m\u001b[0m \u001b[1m1s\u001b[0m 160ms/step - loss: 0.0018 - val_loss: 1.7407e-04\n",
      "Epoch 49/100\n",
      "\u001b[1m9/9\u001b[0m \u001b[32m━━━━━━━━━━━━━━━━━━━━\u001b[0m\u001b[37m\u001b[0m \u001b[1m3s\u001b[0m 202ms/step - loss: 0.0014 - val_loss: 2.1221e-04\n",
      "Epoch 50/100\n",
      "\u001b[1m9/9\u001b[0m \u001b[32m━━━━━━━━━━━━━━━━━━━━\u001b[0m\u001b[37m\u001b[0m \u001b[1m2s\u001b[0m 210ms/step - loss: 0.0016 - val_loss: 1.7944e-04\n",
      "Epoch 51/100\n",
      "\u001b[1m9/9\u001b[0m \u001b[32m━━━━━━━━━━━━━━━━━━━━\u001b[0m\u001b[37m\u001b[0m \u001b[1m2s\u001b[0m 215ms/step - loss: 0.0041 - val_loss: 5.9810e-04\n",
      "Epoch 52/100\n",
      "\u001b[1m9/9\u001b[0m \u001b[32m━━━━━━━━━━━━━━━━━━━━\u001b[0m\u001b[37m\u001b[0m \u001b[1m2s\u001b[0m 188ms/step - loss: 0.0072 - val_loss: 2.7419e-04\n",
      "Epoch 53/100\n",
      "\u001b[1m9/9\u001b[0m \u001b[32m━━━━━━━━━━━━━━━━━━━━\u001b[0m\u001b[37m\u001b[0m \u001b[1m1s\u001b[0m 159ms/step - loss: 0.0072 - val_loss: 1.9981e-04\n",
      "Epoch 54/100\n",
      "\u001b[1m9/9\u001b[0m \u001b[32m━━━━━━━━━━━━━━━━━━━━\u001b[0m\u001b[37m\u001b[0m \u001b[1m2s\u001b[0m 167ms/step - loss: 0.0033 - val_loss: 4.2666e-04\n",
      "Epoch 55/100\n",
      "\u001b[1m9/9\u001b[0m \u001b[32m━━━━━━━━━━━━━━━━━━━━\u001b[0m\u001b[37m\u001b[0m \u001b[1m1s\u001b[0m 159ms/step - loss: 0.0043 - val_loss: 5.5812e-04\n",
      "Epoch 56/100\n",
      "\u001b[1m9/9\u001b[0m \u001b[32m━━━━━━━━━━━━━━━━━━━━\u001b[0m\u001b[37m\u001b[0m \u001b[1m1s\u001b[0m 161ms/step - loss: 0.0043 - val_loss: 0.0012\n",
      "Epoch 57/100\n",
      "\u001b[1m9/9\u001b[0m \u001b[32m━━━━━━━━━━━━━━━━━━━━\u001b[0m\u001b[37m\u001b[0m \u001b[1m1s\u001b[0m 163ms/step - loss: 0.0024 - val_loss: 3.2369e-04\n",
      "Epoch 58/100\n",
      "\u001b[1m9/9\u001b[0m \u001b[32m━━━━━━━━━━━━━━━━━━━━\u001b[0m\u001b[37m\u001b[0m \u001b[1m2s\u001b[0m 217ms/step - loss: 0.0043 - val_loss: 7.2857e-04\n",
      "Epoch 59/100\n",
      "\u001b[1m9/9\u001b[0m \u001b[32m━━━━━━━━━━━━━━━━━━━━\u001b[0m\u001b[37m\u001b[0m \u001b[1m2s\u001b[0m 173ms/step - loss: 0.0019 - val_loss: 1.9626e-04\n",
      "Epoch 60/100\n",
      "\u001b[1m9/9\u001b[0m \u001b[32m━━━━━━━━━━━━━━━━━━━━\u001b[0m\u001b[37m\u001b[0m \u001b[1m2s\u001b[0m 168ms/step - loss: 0.0019 - val_loss: 3.0595e-04\n",
      "Epoch 61/100\n",
      "\u001b[1m9/9\u001b[0m \u001b[32m━━━━━━━━━━━━━━━━━━━━\u001b[0m\u001b[37m\u001b[0m \u001b[1m2s\u001b[0m 203ms/step - loss: 0.0035 - val_loss: 1.3584e-04\n",
      "Epoch 62/100\n",
      "\u001b[1m9/9\u001b[0m \u001b[32m━━━━━━━━━━━━━━━━━━━━\u001b[0m\u001b[37m\u001b[0m \u001b[1m2s\u001b[0m 197ms/step - loss: 0.0027 - val_loss: 1.7076e-04\n",
      "Epoch 63/100\n",
      "\u001b[1m9/9\u001b[0m \u001b[32m━━━━━━━━━━━━━━━━━━━━\u001b[0m\u001b[37m\u001b[0m \u001b[1m2s\u001b[0m 188ms/step - loss: 0.0024 - val_loss: 6.4063e-04\n",
      "Epoch 64/100\n",
      "\u001b[1m9/9\u001b[0m \u001b[32m━━━━━━━━━━━━━━━━━━━━\u001b[0m\u001b[37m\u001b[0m \u001b[1m2s\u001b[0m 184ms/step - loss: 0.0022 - val_loss: 2.0087e-04\n",
      "Epoch 65/100\n",
      "\u001b[1m9/9\u001b[0m \u001b[32m━━━━━━━━━━━━━━━━━━━━\u001b[0m\u001b[37m\u001b[0m \u001b[1m2s\u001b[0m 188ms/step - loss: 0.0017 - val_loss: 1.8214e-04\n",
      "Epoch 66/100\n",
      "\u001b[1m9/9\u001b[0m \u001b[32m━━━━━━━━━━━━━━━━━━━━\u001b[0m\u001b[37m\u001b[0m \u001b[1m2s\u001b[0m 165ms/step - loss: 0.0013 - val_loss: 1.6190e-04\n",
      "Epoch 67/100\n",
      "\u001b[1m9/9\u001b[0m \u001b[32m━━━━━━━━━━━━━━━━━━━━\u001b[0m\u001b[37m\u001b[0m \u001b[1m2s\u001b[0m 167ms/step - loss: 0.0016 - val_loss: 1.7719e-04\n",
      "Epoch 68/100\n",
      "\u001b[1m9/9\u001b[0m \u001b[32m━━━━━━━━━━━━━━━━━━━━\u001b[0m\u001b[37m\u001b[0m \u001b[1m2s\u001b[0m 171ms/step - loss: 0.0015 - val_loss: 1.3859e-04\n",
      "Epoch 69/100\n",
      "\u001b[1m9/9\u001b[0m \u001b[32m━━━━━━━━━━━━━━━━━━━━\u001b[0m\u001b[37m\u001b[0m \u001b[1m1s\u001b[0m 161ms/step - loss: 0.0019 - val_loss: 4.0580e-04\n",
      "Epoch 70/100\n",
      "\u001b[1m9/9\u001b[0m \u001b[32m━━━━━━━━━━━━━━━━━━━━\u001b[0m\u001b[37m\u001b[0m \u001b[1m1s\u001b[0m 161ms/step - loss: 0.0021 - val_loss: 1.4780e-04\n",
      "Epoch 71/100\n",
      "\u001b[1m9/9\u001b[0m \u001b[32m━━━━━━━━━━━━━━━━━━━━\u001b[0m\u001b[37m\u001b[0m \u001b[1m2s\u001b[0m 193ms/step - loss: 0.0014 - val_loss: 2.3013e-04\n",
      "Epoch 72/100\n",
      "\u001b[1m9/9\u001b[0m \u001b[32m━━━━━━━━━━━━━━━━━━━━\u001b[0m\u001b[37m\u001b[0m \u001b[1m2s\u001b[0m 167ms/step - loss: 0.0022 - val_loss: 1.3483e-04\n",
      "Epoch 73/100\n",
      "\u001b[1m9/9\u001b[0m \u001b[32m━━━━━━━━━━━━━━━━━━━━\u001b[0m\u001b[37m\u001b[0m \u001b[1m3s\u001b[0m 168ms/step - loss: 0.0027 - val_loss: 3.8813e-04\n",
      "Epoch 74/100\n",
      "\u001b[1m9/9\u001b[0m \u001b[32m━━━━━━━━━━━━━━━━━━━━\u001b[0m\u001b[37m\u001b[0m \u001b[1m2s\u001b[0m 166ms/step - loss: 0.0022 - val_loss: 1.3721e-04\n",
      "Epoch 75/100\n",
      "\u001b[1m9/9\u001b[0m \u001b[32m━━━━━━━━━━━━━━━━━━━━\u001b[0m\u001b[37m\u001b[0m \u001b[1m1s\u001b[0m 165ms/step - loss: 0.0019 - val_loss: 2.1169e-04\n",
      "Epoch 76/100\n",
      "\u001b[1m9/9\u001b[0m \u001b[32m━━━━━━━━━━━━━━━━━━━━\u001b[0m\u001b[37m\u001b[0m \u001b[1m2s\u001b[0m 171ms/step - loss: 0.0022 - val_loss: 1.8759e-04\n",
      "Epoch 77/100\n",
      "\u001b[1m9/9\u001b[0m \u001b[32m━━━━━━━━━━━━━━━━━━━━\u001b[0m\u001b[37m\u001b[0m \u001b[1m2s\u001b[0m 182ms/step - loss: 0.0023 - val_loss: 1.3878e-04\n",
      "Epoch 78/100\n",
      "\u001b[1m9/9\u001b[0m \u001b[32m━━━━━━━━━━━━━━━━━━━━\u001b[0m\u001b[37m\u001b[0m \u001b[1m3s\u001b[0m 172ms/step - loss: 0.0020 - val_loss: 2.0442e-04\n",
      "Epoch 79/100\n",
      "\u001b[1m9/9\u001b[0m \u001b[32m━━━━━━━━━━━━━━━━━━━━\u001b[0m\u001b[37m\u001b[0m \u001b[1m2s\u001b[0m 166ms/step - loss: 0.0021 - val_loss: 1.9123e-04\n",
      "Epoch 80/100\n",
      "\u001b[1m9/9\u001b[0m \u001b[32m━━━━━━━━━━━━━━━━━━━━\u001b[0m\u001b[37m\u001b[0m \u001b[1m1s\u001b[0m 159ms/step - loss: 0.0015 - val_loss: 1.6698e-04\n",
      "Epoch 81/100\n",
      "\u001b[1m9/9\u001b[0m \u001b[32m━━━━━━━━━━━━━━━━━━━━\u001b[0m\u001b[37m\u001b[0m \u001b[1m2s\u001b[0m 195ms/step - loss: 0.0017 - val_loss: 1.5553e-04\n",
      "Epoch 82/100\n",
      "\u001b[1m9/9\u001b[0m \u001b[32m━━━━━━━━━━━━━━━━━━━━\u001b[0m\u001b[37m\u001b[0m \u001b[1m2s\u001b[0m 165ms/step - loss: 0.0015 - val_loss: 1.7503e-04\n",
      "Epoch 83/100\n",
      "\u001b[1m9/9\u001b[0m \u001b[32m━━━━━━━━━━━━━━━━━━━━\u001b[0m\u001b[37m\u001b[0m \u001b[1m2s\u001b[0m 168ms/step - loss: 0.0010 - val_loss: 1.6148e-04\n",
      "Epoch 84/100\n",
      "\u001b[1m9/9\u001b[0m \u001b[32m━━━━━━━━━━━━━━━━━━━━\u001b[0m\u001b[37m\u001b[0m \u001b[1m2s\u001b[0m 179ms/step - loss: 0.0015 - val_loss: 1.3937e-04\n",
      "Epoch 85/100\n",
      "\u001b[1m9/9\u001b[0m \u001b[32m━━━━━━━━━━━━━━━━━━━━\u001b[0m\u001b[37m\u001b[0m \u001b[1m2s\u001b[0m 192ms/step - loss: 0.0016 - val_loss: 1.3055e-04\n",
      "Epoch 86/100\n",
      "\u001b[1m9/9\u001b[0m \u001b[32m━━━━━━━━━━━━━━━━━━━━\u001b[0m\u001b[37m\u001b[0m \u001b[1m2s\u001b[0m 195ms/step - loss: 0.0013 - val_loss: 1.3536e-04\n",
      "Epoch 87/100\n",
      "\u001b[1m9/9\u001b[0m \u001b[32m━━━━━━━━━━━━━━━━━━━━\u001b[0m\u001b[37m\u001b[0m \u001b[1m2s\u001b[0m 201ms/step - loss: 0.0014 - val_loss: 1.6517e-04\n",
      "Epoch 88/100\n",
      "\u001b[1m9/9\u001b[0m \u001b[32m━━━━━━━━━━━━━━━━━━━━\u001b[0m\u001b[37m\u001b[0m \u001b[1m2s\u001b[0m 178ms/step - loss: 0.0010 - val_loss: 1.3827e-04\n",
      "Epoch 89/100\n",
      "\u001b[1m9/9\u001b[0m \u001b[32m━━━━━━━━━━━━━━━━━━━━\u001b[0m\u001b[37m\u001b[0m \u001b[1m1s\u001b[0m 120ms/step - loss: 0.0014 - val_loss: 1.5195e-04\n",
      "Epoch 90/100\n",
      "\u001b[1m9/9\u001b[0m \u001b[32m━━━━━━━━━━━━━━━━━━━━\u001b[0m\u001b[37m\u001b[0m \u001b[1m1s\u001b[0m 94ms/step - loss: 0.0012 - val_loss: 1.3032e-04\n",
      "Epoch 91/100\n",
      "\u001b[1m9/9\u001b[0m \u001b[32m━━━━━━━━━━━━━━━━━━━━\u001b[0m\u001b[37m\u001b[0m \u001b[1m1s\u001b[0m 96ms/step - loss: 0.0016 - val_loss: 1.4404e-04\n",
      "Epoch 92/100\n",
      "\u001b[1m9/9\u001b[0m \u001b[32m━━━━━━━━━━━━━━━━━━━━\u001b[0m\u001b[37m\u001b[0m \u001b[1m1s\u001b[0m 95ms/step - loss: 0.0016 - val_loss: 2.6271e-04\n",
      "Epoch 93/100\n",
      "\u001b[1m9/9\u001b[0m \u001b[32m━━━━━━━━━━━━━━━━━━━━\u001b[0m\u001b[37m\u001b[0m \u001b[1m1s\u001b[0m 95ms/step - loss: 0.0013 - val_loss: 1.3716e-04\n",
      "Epoch 94/100\n",
      "\u001b[1m9/9\u001b[0m \u001b[32m━━━━━━━━━━━━━━━━━━━━\u001b[0m\u001b[37m\u001b[0m \u001b[1m1s\u001b[0m 94ms/step - loss: 0.0013 - val_loss: 1.4580e-04\n",
      "Epoch 95/100\n",
      "\u001b[1m9/9\u001b[0m \u001b[32m━━━━━━━━━━━━━━━━━━━━\u001b[0m\u001b[37m\u001b[0m \u001b[1m1s\u001b[0m 89ms/step - loss: 9.4293e-04 - val_loss: 3.2488e-04\n",
      "Epoch 96/100\n",
      "\u001b[1m9/9\u001b[0m \u001b[32m━━━━━━━━━━━━━━━━━━━━\u001b[0m\u001b[37m\u001b[0m \u001b[1m1s\u001b[0m 91ms/step - loss: 0.0020 - val_loss: 1.3997e-04\n",
      "Epoch 97/100\n",
      "\u001b[1m9/9\u001b[0m \u001b[32m━━━━━━━━━━━━━━━━━━━━\u001b[0m\u001b[37m\u001b[0m \u001b[1m1s\u001b[0m 88ms/step - loss: 0.0037 - val_loss: 1.3917e-04\n",
      "Epoch 98/100\n",
      "\u001b[1m9/9\u001b[0m \u001b[32m━━━━━━━━━━━━━━━━━━━━\u001b[0m\u001b[37m\u001b[0m \u001b[1m1s\u001b[0m 93ms/step - loss: 0.0013 - val_loss: 3.2137e-04\n",
      "Epoch 99/100\n",
      "\u001b[1m9/9\u001b[0m \u001b[32m━━━━━━━━━━━━━━━━━━━━\u001b[0m\u001b[37m\u001b[0m \u001b[1m1s\u001b[0m 91ms/step - loss: 0.0015 - val_loss: 1.3708e-04\n",
      "Epoch 100/100\n",
      "\u001b[1m9/9\u001b[0m \u001b[32m━━━━━━━━━━━━━━━━━━━━\u001b[0m\u001b[37m\u001b[0m \u001b[1m1s\u001b[0m 95ms/step - loss: 0.0011 - val_loss: 1.7620e-04\n"
     ]
    },
    {
     "data": {
      "text/plain": [
       "<keras.src.callbacks.history.History at 0x2141043fe50>"
      ]
     },
     "execution_count": 41,
     "metadata": {},
     "output_type": "execute_result"
    }
   ],
   "source": [
    "model.fit(X_train,y_train,validation_data=(X_test,ytest),epochs=100,batch_size=64,verbose=1)"
   ]
  },
  {
   "cell_type": "code",
   "execution_count": 42,
   "metadata": {},
   "outputs": [],
   "source": [
    "import tensorflow as tf"
   ]
  },
  {
   "cell_type": "code",
   "execution_count": 43,
   "metadata": {},
   "outputs": [
    {
     "data": {
      "text/plain": [
       "'2.18.0'"
      ]
     },
     "execution_count": 43,
     "metadata": {},
     "output_type": "execute_result"
    }
   ],
   "source": [
    "tf.__version__"
   ]
  },
  {
   "cell_type": "code",
   "execution_count": 44,
   "metadata": {},
   "outputs": [
    {
     "name": "stdout",
     "output_type": "stream",
     "text": [
      "\u001b[1m18/18\u001b[0m \u001b[32m━━━━━━━━━━━━━━━━━━━━\u001b[0m\u001b[37m\u001b[0m \u001b[1m1s\u001b[0m 33ms/step\n",
      "\u001b[1m8/8\u001b[0m \u001b[32m━━━━━━━━━━━━━━━━━━━━\u001b[0m\u001b[37m\u001b[0m \u001b[1m0s\u001b[0m 17ms/step\n"
     ]
    }
   ],
   "source": [
    "### Lets Do the prediction and check performance metrics\n",
    "train_predict=model.predict(X_train)\n",
    "test_predict=model.predict(X_test)"
   ]
  },
  {
   "cell_type": "code",
   "execution_count": 45,
   "metadata": {},
   "outputs": [],
   "source": [
    "##Transformback to original form\n",
    "train_predict=scaler.inverse_transform(train_predict)\n",
    "test_predict=scaler.inverse_transform(test_predict)"
   ]
  },
  {
   "cell_type": "code",
   "execution_count": 46,
   "metadata": {},
   "outputs": [
    {
     "data": {
      "text/plain": [
       "193.34249791199105"
      ]
     },
     "execution_count": 46,
     "metadata": {},
     "output_type": "execute_result"
    }
   ],
   "source": [
    "### Calculate RMSE performance metrics\n",
    "import math\n",
    "from sklearn.metrics import mean_squared_error\n",
    "math.sqrt(mean_squared_error(y_train,train_predict))"
   ]
  },
  {
   "cell_type": "code",
   "execution_count": 47,
   "metadata": {},
   "outputs": [
    {
     "data": {
      "text/plain": [
       "175.06866503381943"
      ]
     },
     "execution_count": 47,
     "metadata": {},
     "output_type": "execute_result"
    }
   ],
   "source": [
    "### Test Data RMSE\n",
    "math.sqrt(mean_squared_error(ytest,test_predict))"
   ]
  },
  {
   "cell_type": "code",
   "execution_count": 48,
   "metadata": {},
   "outputs": [
    {
     "data": {
      "image/png": "[encoded data removed]",
      "text/plain": [
       "<Figure size 640x480 with 1 Axes>"
      ]
     },
     "metadata": {},
     "output_type": "display_data"
    }
   ],
   "source": [
    "### Plotting \n",
    "# shift train predictions for plotting\n",
    "look_back=100\n",
    "trainPredictPlot = numpy.empty_like(df1)\n",
    "trainPredictPlot[:, :] = np.nan\n",
    "trainPredictPlot[look_back:len(train_predict)+look_back, :] = train_predict\n",
    "# shift test predictions for plotting\n",
    "testPredictPlot = numpy.empty_like(df1)\n",
    "testPredictPlot[:, :] = numpy.nan\n",
    "testPredictPlot[len(train_predict)+(look_back*2)+1:len(df1)-1, :] = test_predict\n",
    "# plot baseline and predictions\n",
    "plt.plot(scaler.inverse_transform(df1))\n",
    "plt.plot(trainPredictPlot)\n",
    "plt.plot(testPredictPlot)\n",
    "plt.show()"
   ]
  },
  {
   "cell_type": "code",
   "execution_count": 49,
   "metadata": {},
   "outputs": [
    {
     "data": {
      "text/plain": [
       "353"
      ]
     },
     "execution_count": 49,
     "metadata": {},
     "output_type": "execute_result"
    }
   ],
   "source": [
    "len(test_data)"
   ]
  },
  {
   "cell_type": "code",
   "execution_count": 50,
   "metadata": {},
   "outputs": [
    {
     "data": {
      "text/plain": [
       "(1, 13)"
      ]
     },
     "execution_count": 50,
     "metadata": {},
     "output_type": "execute_result"
    }
   ],
   "source": [
    "x_input=test_data[340:].reshape(1,-1)\n",
    "x_input.shape\n"
   ]
  },
  {
   "cell_type": "code",
   "execution_count": 51,
   "metadata": {},
   "outputs": [],
   "source": [
    "temp_input=list(x_input)\n",
    "temp_input=temp_input[0].tolist()"
   ]
  },
  {
   "cell_type": "code",
   "execution_count": 52,
   "metadata": {},
   "outputs": [
    {
     "data": {
      "text/plain": [
       "[0.22008766437069505,\n",
       " 0.2282279273638071,\n",
       " 0.22860363180964305,\n",
       " 0.2272510958046336,\n",
       " 0.22304320601127103,\n",
       " 0.22567313713212267,\n",
       " 0.2203882279273638,\n",
       " 0.22001252348152783,\n",
       " 0.21730745147150904,\n",
       " 0.21592986850344392,\n",
       " 0.21618033813400123,\n",
       " 0.2172573575453976,\n",
       " 0.21462742642454596]"
      ]
     },
     "execution_count": 52,
     "metadata": {},
     "output_type": "execute_result"
    }
   ],
   "source": [
    "temp_input"
   ]
  },
  {
   "cell_type": "code",
   "execution_count": 53,
   "metadata": {},
   "outputs": [
    {
     "ename": "ValueError",
     "evalue": "cannot reshape array of size 13 into shape (1,100,1)",
     "output_type": "error",
     "traceback": [
      "\u001b[1;31m---------------------------------------------------------------------------\u001b[0m",
      "\u001b[1;31mValueError\u001b[0m                                Traceback (most recent call last)",
      "Cell \u001b[1;32mIn[53], line 24\u001b[0m\n\u001b[0;32m     22\u001b[0m     i\u001b[38;5;241m=\u001b[39mi\u001b[38;5;241m+\u001b[39m\u001b[38;5;241m1\u001b[39m\n\u001b[0;32m     23\u001b[0m \u001b[38;5;28;01melse\u001b[39;00m:\n\u001b[1;32m---> 24\u001b[0m     x_input \u001b[38;5;241m=\u001b[39m \u001b[43mx_input\u001b[49m\u001b[38;5;241;43m.\u001b[39;49m\u001b[43mreshape\u001b[49m\u001b[43m(\u001b[49m\u001b[43m(\u001b[49m\u001b[38;5;241;43m1\u001b[39;49m\u001b[43m,\u001b[49m\u001b[43m \u001b[49m\u001b[43mn_steps\u001b[49m\u001b[43m,\u001b[49m\u001b[38;5;241;43m1\u001b[39;49m\u001b[43m)\u001b[49m\u001b[43m)\u001b[49m\n\u001b[0;32m     25\u001b[0m     yhat \u001b[38;5;241m=\u001b[39m model\u001b[38;5;241m.\u001b[39mpredict(x_input, verbose\u001b[38;5;241m=\u001b[39m\u001b[38;5;241m0\u001b[39m)\n\u001b[0;32m     26\u001b[0m     \u001b[38;5;28mprint\u001b[39m(yhat[\u001b[38;5;241m0\u001b[39m])\n",
      "\u001b[1;31mValueError\u001b[0m: cannot reshape array of size 13 into shape (1,100,1)"
     ]
    }
   ],
   "source": [
    "# demonstrate prediction for next 10 days\n",
    "from numpy import array\n",
    "\n",
    "lst_output=[]\n",
    "n_steps=100\n",
    "i=0\n",
    "while(i<30):\n",
    "    \n",
    "    if(len(temp_input)>100):\n",
    "        #print(temp_input)\n",
    "        x_input=np.array(temp_input[1:])\n",
    "        print(\"{} day input {}\".format(i,x_input))\n",
    "        x_input=x_input.reshape(1,-1)\n",
    "        x_input = x_input.reshape((1, n_steps, 1))\n",
    "        #print(x_input)\n",
    "        yhat = model.predict(x_input, verbose=0)\n",
    "        print(\"{} day output {}\".format(i,yhat))\n",
    "        temp_input.extend(yhat[0].tolist())\n",
    "        temp_input=temp_input[1:]\n",
    "        #print(temp_input)\n",
    "        lst_output.extend(yhat.tolist())\n",
    "        i=i+1\n",
    "    else:\n",
    "        x_input = x_input.reshape((1, n_steps,1))\n",
    "        yhat = model.predict(x_input, verbose=0)\n",
    "        print(yhat[0])\n",
    "        temp_input.extend(yhat[0].tolist())\n",
    "        print(len(temp_input))\n",
    "        lst_output.extend(yhat.tolist())\n",
    "        i=i+1\n",
    "    \n",
    "\n",
    "print(lst_output)"
   ]
  },
  {
   "cell_type": "code",
   "execution_count": 179,
   "metadata": {},
   "outputs": [],
   "source": [
    "day_new=np.arange(1,101)\n",
    "day_pred=np.arange(101,131)"
   ]
  },
  {
   "cell_type": "code",
   "execution_count": 180,
   "metadata": {},
   "outputs": [],
   "source": [
    "import matplotlib.pyplot as plt"
   ]
  },
  {
   "cell_type": "code",
   "execution_count": null,
   "metadata": {},
   "outputs": [],
   "source": [
    "len(df1)"
   ]
  },
  {
   "cell_type": "code",
   "execution_count": null,
   "metadata": {},
   "outputs": [],
   "source": [
    "plt.plot(day_new,scaler.inverse_transform(df1[1156:]))\n",
    "plt.plot(day_pred,scaler.inverse_transform(lst_output))"
   ]
  },
  {
   "cell_type": "code",
   "execution_count": null,
   "metadata": {},
   "outputs": [],
   "source": [
    "df3=df1.tolist()\n",
    "df3.extend(lst_output)\n",
    "plt.plot(df3[1200:])"
   ]
  },
  {
   "cell_type": "code",
   "execution_count": 184,
   "metadata": {},
   "outputs": [],
   "source": [
    "df3=scaler.inverse_transform(df3).tolist()"
   ]
  },
  {
   "cell_type": "code",
   "execution_count": null,
   "metadata": {},
   "outputs": [],
   "source": [
    "plt.plot(df3)"
   ]
  },
  {
   "cell_type": "code",
   "execution_count": null,
   "metadata": {},
   "outputs": [],
   "source": []
  }
 ],
 "metadata": {
  "kernelspec": {
   "display_name": "Python 3",
   "language": "python",
   "name": "python3"
  },
  "language_info": {
   "codemirror_mode": {
    "name": "ipython",
    "version": 3
   },
   "file_extension": ".py",
   "mimetype": "text/x-python",
   "name": "python",
   "nbconvert_exporter": "python",
   "pygments_lexer": "ipython3",
   "version": "3.11.9"
  }
 },
 "nbformat": 4,
 "nbformat_minor": 2
}
